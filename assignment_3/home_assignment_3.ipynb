{
 "cells": [
  {
   "cell_type": "markdown",
   "metadata": {
    "id": "4w2e0D-hni2p"
   },
   "source": [
    "# HOME ASSIGNMENT #3: SLACK API - TO GSHEET\n",
    "**Mục đích của bài Assignment**\n",
    "- Lấy thông tin các Users từ Slack của DataCracy (BTC, Mentors và Learners)\n",
    "- `**[Optional 1]**` Đưa danh sách Users lên Google Spreadsheet, để theo dõi \n",
    "- `**[Optional 2]**` Lấy thông tin Assignment Submission và số Reviews trên `#atom-assignmentnt2` và cập nhật lên Spreadsheet, để theo dõi các học viên đã nộp bài và được review\n",
    "\n",
    "**Các kiến thức sẽ áp dụng**\n",
    "- Ôn lại và luyện tập thêm về concept API (cụ thể sử dụng API Slack)\n",
    "- Trích xuất thông tin từ JSON\n",
    "- Dùng module gspread để đưa thông tin lên Google Spreadsheet"
   ]
  },
  {
   "cell_type": "markdown",
   "metadata": {
    "id": "yitICPVzpRI2"
   },
   "source": [
    "## 0. Load Modules"
   ]
  },
  {
   "cell_type": "code",
   "execution_count": 6,
   "metadata": {},
   "outputs": [
    {
     "name": "stdout",
     "output_type": "stream",
     "text": [
      "Collecting oauth2client\n",
      "  Downloading oauth2client-4.1.3-py2.py3-none-any.whl (98 kB)\n",
      "Collecting httplib2>=0.9.1\n",
      "  Downloading httplib2-0.19.1-py3-none-any.whl (95 kB)\n",
      "Requirement already satisfied: six>=1.6.1 in c:\\users\\admin\\appdata\\local\\programs\\python\\python38-32\\lib\\site-packages (from oauth2client) (1.15.0)\n",
      "Requirement already satisfied: pyasn1>=0.1.7 in c:\\users\\admin\\appdata\\local\\programs\\python\\python38-32\\lib\\site-packages (from oauth2client) (0.4.8)\n",
      "Requirement already satisfied: rsa>=3.1.4 in c:\\users\\admin\\appdata\\local\\programs\\python\\python38-32\\lib\\site-packages (from oauth2client) (4.7.2)\n",
      "Requirement already satisfied: pyasn1-modules>=0.0.5 in c:\\users\\admin\\appdata\\local\\programs\\python\\python38-32\\lib\\site-packages (from oauth2client) (0.2.8)\n",
      "Requirement already satisfied: pyparsing<3,>=2.4.2 in c:\\users\\admin\\appdata\\local\\programs\\python\\python38-32\\lib\\site-packages (from httplib2>=0.9.1->oauth2client) (2.4.7)\n",
      "Installing collected packages: httplib2, oauth2client\n",
      "Successfully installed httplib2-0.19.1 oauth2client-4.1.3\n"
     ]
    }
   ],
   "source": [
    "!pip install oauth2client"
   ]
  },
  {
   "cell_type": "code",
   "execution_count": 48,
   "metadata": {
    "id": "G_HCucZ5rSHq"
   },
   "outputs": [],
   "source": [
    "import requests #-> Để gọi API\n",
    "import re #-> Để xử lý data dạng string\n",
    "from datetime import datetime as dt #-> Để xử lý data dạng datetime\n",
    "import gspread #-> Để update data lên Google Spreadsheet\n",
    "from gspread_dataframe import set_with_dataframe #-> Để update data lên Google Spreadsheet\n",
    "import pandas as pd #-> Để update data dạng bản\n",
    "import json \n",
    "from oauth2client.service_account import ServiceAccountCredentials #-> Để nhập Google Spreadsheet Credentials\n",
    "import os"
   ]
  },
  {
   "cell_type": "markdown",
   "metadata": {
    "id": "z7HOk6uMp2K2"
   },
   "source": [
    "## 1. Slack API: User List\n",
    "* Bạn có thể đọc lại về concept API [HERE](https://anhdang.gitbook.io/datacracy/atom/3-data-tools-2/3.2-spotify-api-and-postman)\n",
    "* Assignment này sẽ dùng Slack API để lấy thông tin về Learners và theo dõi các bài tập đã nộp và được review (sau đó cập nhật lên Google Spreadsheet)\n",
    "* ===> **NOTICE**: Slack API authorize bằng Bearer Token `xoxb-...-...-...` (Sẽ được cung cấp riêng)\n",
    "* Update file `env_variable.json` như trong [Assignment#2](../assignment_2/home_assignment_2.ipynb)\n",
    "* ==> Nếu bạn dùng Google Colab, upload file vào Colab ([Hướng dẫn](https://colab.research.google.com/notebooks/io.ipynb))"
   ]
  },
  {
   "cell_type": "code",
   "execution_count": 2,
   "metadata": {
    "colab": {
     "base_uri": "https://localhost:8080/"
    },
    "id": "YoSEHfdTwYRj",
    "outputId": "02b1f5e1-6f9a-4c2b-a481-33284324d1cc"
   },
   "outputs": [
    {
     "name": "stdout",
     "output_type": "stream",
     "text": [
      " Volume in drive C is OS 10\n",
      " Volume Serial Number is 2C5E-73D5\n",
      "\n",
      " Directory of C:\\Users\\Admin\\OneDrive\\Ta`i liˆ?u\\GitHub\\atom-assignments\\assignment_3\n",
      "\n",
      "20/05/2021  14:12    <DIR>          .\n",
      "20/05/2021  14:12    <DIR>          ..\n",
      "17/05/2021  21:00    <DIR>          .ipynb_checkpoints\n",
      "17/05/2021  21:49             2,310 datacracy-c8fbe6100f5e.json\n",
      "20/05/2021  13:43                91 env_variable.json\n",
      "20/05/2021  14:12            32,721 home_assignment_3.ipynb\n",
      "16/05/2021  20:36               238 README.md\n",
      "               4 File(s)         35,360 bytes\n",
      "               3 Dir(s)  21,265,846,272 bytes free\n"
     ]
    }
   ],
   "source": [
    "!dir"
   ]
  },
  {
   "cell_type": "code",
   "execution_count": 14,
   "metadata": {
    "id": "tFPqT2pirhy4"
   },
   "outputs": [],
   "source": [
    "with open('env_variable.json', 'r') as j:\n",
    "    json_data = json.load(j)\n",
    "    #print(json_data)"
   ]
  },
  {
   "cell_type": "code",
   "execution_count": 15,
   "metadata": {
    "id": "wAzmaVTLrpvH"
   },
   "outputs": [],
   "source": [
    "## Load SLACK_BEARER_TOKEN\n",
    "os.environ['SLACK_BEARER_TOKEN'] = json_data['SLACK_BEARER_TOKEN'] "
   ]
  },
  {
   "cell_type": "code",
   "execution_count": 16,
   "metadata": {
    "id": "K_TrDTx138jD"
   },
   "outputs": [],
   "source": [
    "## Gọi API từ Endpoints (Input - Token được đưa vào Headers)\n",
    "## Challenge: Thử gọi API này bằng Postman\n",
    "endpoint = \"https://slack.com/api/users.list\"\n",
    "headers = {\"Authorization\": \"Bearer {}\".format(os.environ['SLACK_BEARER_TOKEN'])}\n",
    "response_json = requests.post(endpoint, headers=headers).json() \n",
    "user_dat = response_json['members']"
   ]
  },
  {
   "cell_type": "markdown",
   "metadata": {
    "id": "rqEti4Y50tdB"
   },
   "source": [
    "### TODO #1\n",
    "Hoàn tất đoạn code sau"
   ]
  },
  {
   "cell_type": "code",
   "execution_count": 20,
   "metadata": {
    "id": "P0qbkdhtD9ww",
    "scrolled": false
   },
   "outputs": [],
   "source": [
    "## Loop qua JSON file và extract các thông tin quan trọng (id, name, display_name, real_name_normalized, title, phone, is_bot)\n",
    "## Hint: Bạn có thể dùng Postman hoặc in user_dat JSON để xem cấu trúc (schema), dùng Ctrl+F để tìm các keys (id, name, display_name, real_name_normalized, title, phone, is_bot)\n",
    "user_dict = {'user_id':[], 'name':[], 'display_name':[],'real_name':[],'title':[],'phone':[],'is_bot':[]}\n",
    "for i in range(len(user_dat)):\n",
    "    user_dict['user_id'].append(user_dat[i]['id'])\n",
    "    user_dict['name'].append(user_dat[i]['name'])\n",
    "    user_dict['display_name'].append(user_dat[i]['profile']['display_name'])\n",
    "    user_dict['real_name'].append(user_dat[i]['profile']['real_name_normalized'])\n",
    "    user_dict['title'].append(user_dat[i]['profile']['title'])\n",
    "    user_dict['phone'].append(user_dat[i]['profile']['phone'])\n",
    "    user_dict['is_bot'].append(user_dat[i]['is_bot'])"
   ]
  },
  {
   "cell_type": "code",
   "execution_count": 21,
   "metadata": {
    "colab": {
     "base_uri": "https://localhost:8080/",
     "height": 204
    },
    "id": "yGNvsCauF8_w",
    "outputId": "dfc4c6f7-845c-4202-8fc7-43aeb328554a"
   },
   "outputs": [
    {
     "data": {
      "text/html": [
       "<div>\n",
       "<style scoped>\n",
       "    .dataframe tbody tr th:only-of-type {\n",
       "        vertical-align: middle;\n",
       "    }\n",
       "\n",
       "    .dataframe tbody tr th {\n",
       "        vertical-align: top;\n",
       "    }\n",
       "\n",
       "    .dataframe thead th {\n",
       "        text-align: right;\n",
       "    }\n",
       "</style>\n",
       "<table border=\"1\" class=\"dataframe\">\n",
       "  <thead>\n",
       "    <tr style=\"text-align: right;\">\n",
       "      <th></th>\n",
       "      <th>user_id</th>\n",
       "      <th>name</th>\n",
       "      <th>display_name</th>\n",
       "      <th>real_name</th>\n",
       "      <th>title</th>\n",
       "      <th>phone</th>\n",
       "      <th>is_bot</th>\n",
       "    </tr>\n",
       "  </thead>\n",
       "  <tbody>\n",
       "    <tr>\n",
       "      <th>0</th>\n",
       "      <td>USLACKBOT</td>\n",
       "      <td>slackbot</td>\n",
       "      <td>Slackbot</td>\n",
       "      <td>Slackbot</td>\n",
       "      <td></td>\n",
       "      <td></td>\n",
       "      <td>False</td>\n",
       "    </tr>\n",
       "    <tr>\n",
       "      <th>1</th>\n",
       "      <td>U01AT4T75JB</td>\n",
       "      <td>loclexuan26392</td>\n",
       "      <td>Loc Le Xuan</td>\n",
       "      <td>Loc Le Xuan</td>\n",
       "      <td></td>\n",
       "      <td></td>\n",
       "      <td>False</td>\n",
       "    </tr>\n",
       "    <tr>\n",
       "      <th>2</th>\n",
       "      <td>U01AVDY7JET</td>\n",
       "      <td>locle.ds</td>\n",
       "      <td>Loc Le Xuan</td>\n",
       "      <td>Loc Le Xuan</td>\n",
       "      <td></td>\n",
       "      <td></td>\n",
       "      <td>False</td>\n",
       "    </tr>\n",
       "    <tr>\n",
       "      <th>3</th>\n",
       "      <td>U01BE2PR6LU</td>\n",
       "      <td>maianhdang.ftu</td>\n",
       "      <td>MAD</td>\n",
       "      <td>Dặng Huỳnh Mai Anh</td>\n",
       "      <td>Technical Contents</td>\n",
       "      <td></td>\n",
       "      <td>False</td>\n",
       "    </tr>\n",
       "    <tr>\n",
       "      <th>4</th>\n",
       "      <td>U01C48T7S1J</td>\n",
       "      <td>huyenhoang.design</td>\n",
       "      <td>Thanh Huyen Hoang</td>\n",
       "      <td>Thanh Huyen Hoang</td>\n",
       "      <td></td>\n",
       "      <td></td>\n",
       "      <td>False</td>\n",
       "    </tr>\n",
       "  </tbody>\n",
       "</table>\n",
       "</div>"
      ],
      "text/plain": [
       "       user_id               name       display_name           real_name  \\\n",
       "0    USLACKBOT           slackbot           Slackbot            Slackbot   \n",
       "1  U01AT4T75JB     loclexuan26392        Loc Le Xuan         Loc Le Xuan   \n",
       "2  U01AVDY7JET           locle.ds        Loc Le Xuan         Loc Le Xuan   \n",
       "3  U01BE2PR6LU     maianhdang.ftu                MAD  Dặng Huỳnh Mai Anh   \n",
       "4  U01C48T7S1J  huyenhoang.design  Thanh Huyen Hoang   Thanh Huyen Hoang   \n",
       "\n",
       "                title phone  is_bot  \n",
       "0                             False  \n",
       "1                             False  \n",
       "2                             False  \n",
       "3  Technical Contents         False  \n",
       "4                             False  "
      ]
     },
     "execution_count": 21,
     "metadata": {},
     "output_type": "execute_result"
    }
   ],
   "source": [
    "user_df = pd.DataFrame(user_dict) ## Dùng pandas để convert dictionaries thành bảng\n",
    "user_df.head(5) ## Chỉ in 5 dòng đầu (chủ yếu để xem cấu trúc)"
   ]
  },
  {
   "cell_type": "code",
   "execution_count": 13,
   "metadata": {
    "colab": {
     "base_uri": "https://localhost:8080/",
     "height": 80
    },
    "id": "rjFcaWdt2ABM",
    "outputId": "1a114985-7608-4421-aa51-1e406cc427eb"
   },
   "outputs": [
    {
     "data": {
      "text/html": [
       "<div>\n",
       "<style scoped>\n",
       "    .dataframe tbody tr th:only-of-type {\n",
       "        vertical-align: middle;\n",
       "    }\n",
       "\n",
       "    .dataframe tbody tr th {\n",
       "        vertical-align: top;\n",
       "    }\n",
       "\n",
       "    .dataframe thead th {\n",
       "        text-align: right;\n",
       "    }\n",
       "</style>\n",
       "<table border=\"1\" class=\"dataframe\">\n",
       "  <thead>\n",
       "    <tr style=\"text-align: right;\">\n",
       "      <th></th>\n",
       "      <th>user_id</th>\n",
       "      <th>name</th>\n",
       "      <th>display_name</th>\n",
       "      <th>real_name</th>\n",
       "      <th>title</th>\n",
       "      <th>phone</th>\n",
       "      <th>is_bot</th>\n",
       "    </tr>\n",
       "  </thead>\n",
       "  <tbody>\n",
       "    <tr>\n",
       "      <th>50</th>\n",
       "      <td>U01V00JK9LH</td>\n",
       "      <td>dinhtuan3955</td>\n",
       "      <td>Đình Tuấn Phạm</td>\n",
       "      <td>Dinh Tuấn Phạm</td>\n",
       "      <td></td>\n",
       "      <td></td>\n",
       "      <td>False</td>\n",
       "    </tr>\n",
       "  </tbody>\n",
       "</table>\n",
       "</div>"
      ],
      "text/plain": [
       "        user_id          name    display_name       real_name title phone  \\\n",
       "50  U01V00JK9LH  dinhtuan3955  Đình Tuấn Phạm  Dinh Tuấn Phạm               \n",
       "\n",
       "    is_bot  \n",
       "50   False  "
      ]
     },
     "execution_count": 13,
     "metadata": {},
     "output_type": "execute_result"
    }
   ],
   "source": [
    "user_df[user_df.display_name == 'Đình Tuấn Phạm'] ## Lọc thông tin của MAD, trên DataFrame (bạn có thể Google thêm)"
   ]
  },
  {
   "cell_type": "markdown",
   "metadata": {
    "id": "1TZrcaWZyE07"
   },
   "source": [
    "-------------- HẾT PHẦN BẮT BUỘC ---------------------"
   ]
  },
  {
   "cell_type": "markdown",
   "metadata": {
    "id": "P3_b7zw-1A6s"
   },
   "source": [
    "## Option 1: Update data => Google SpreadSheet"
   ]
  },
  {
   "cell_type": "markdown",
   "metadata": {
    "id": "UPuXhw3WtmWw"
   },
   "source": [
    "### TODO#2\n",
    "Tạo service account (output là file json), file này để cho phép ta access vào Google Spreadsheet:\n",
    "\n",
    "1. Làm theo hướng dẫn: [Google Create a Service Account](https://support.google.com/a/answer/7378726?hl=en)\n",
    "![google_service_account](../img/google_service_account.png)\n",
    "2. Lưu file JSON (chứa credential về máy)\n",
    "![gservice_acc_json](../img/gservice_acc_json.png)\n",
    "3. Nhớ Enable [Google Drive API](https://console.cloud.google.com/marketplace/product/google/drive.googleapis.com?q=search&referrer=search&project=quickstart-313303) (Nếu bạn chạy code báo lỗi chưa enable API thì vào link trong phần lỗi để Enable, sau khi kích hoạt có thể cần vài phút để chạy được)\n",
    "![enable_api](../img/enable_api.png)\n",
    "* ==> Upload file Gsheet Credential JSON nếu bạn dùng Colab \n",
    "* ==> Nếu bạn để key trong repo git, **NHỚ** để file json vào `.gitignore` để không bị leaked key)\n"
   ]
  },
  {
   "cell_type": "code",
   "execution_count": 14,
   "metadata": {
    "colab": {
     "base_uri": "https://localhost:8080/"
    },
    "id": "XhrcVjXWwldS",
    "outputId": "63133330-f68b-4adf-96a1-6d2c0e08dc70"
   },
   "outputs": [
    {
     "name": "stdout",
     "output_type": "stream",
     "text": [
      " Volume in drive C is OS 10\n",
      " Volume Serial Number is 2C5E-73D5\n",
      "\n",
      " Directory of C:\\Users\\Admin\\OneDrive\\Ta`i liˆ?u\\GitHub\\atom-assignments\\assignment_3\n",
      "\n",
      "20/05/2021  13:44    <DIR>          .\n",
      "20/05/2021  13:44    <DIR>          ..\n",
      "17/05/2021  21:00    <DIR>          .ipynb_checkpoints\n",
      "17/05/2021  21:49             2,310 datacracy-c8fbe6100f5e.json\n",
      "20/05/2021  13:43                91 env_variable.json\n",
      "20/05/2021  13:44            34,999 home_assignment_3.ipynb\n",
      "16/05/2021  20:36               238 README.md\n",
      "               4 File(s)         37,638 bytes\n",
      "               3 Dir(s)  21,030,846,464 bytes free\n"
     ]
    }
   ],
   "source": [
    "!dir"
   ]
  },
  {
   "cell_type": "code",
   "execution_count": 52,
   "metadata": {
    "colab": {
     "base_uri": "https://localhost:8080/"
    },
    "id": "4NEQFu-DNvFC",
    "outputId": "a855fe34-b409-4152-a218-67bfa240396f"
   },
   "outputs": [
    {
     "name": "stdout",
     "output_type": "stream",
     "text": [
      "DONE!\n"
     ]
    }
   ],
   "source": [
    "## Authorize bằng JSON\n",
    "scope = ['https://spreadsheets.google.com/feeds',\n",
    "         'https://www.googleapis.com/auth/drive']\n",
    "credentials = ServiceAccountCredentials.from_json_keyfile_name(\n",
    "    'datacracy-c8fbe6100f5e.json', scope)\n",
    "gc = gspread.authorize(credentials)\n",
    "print(\"DONE!\")"
   ]
  },
  {
   "cell_type": "markdown",
   "metadata": {
    "id": "HELBp0Sdxhzc"
   },
   "source": [
    "**Tạo Spreadsheet**\n",
    "\n",
    "1. Tạo Spreadsheet trên google\n",
    "2. Invite account trong `client_email` (file JSON Gsheet Credential bên trên) vào Spreadsheet (quyền Editor)\n",
    "![enable_api](../img/enable_api.png)\n",
    "3. Lấy `SPREADSHEET_KEY` (nằm trong chính URL của Spreadhstee): `https://docs.google.com/spreadsheets/d/<SPREADSHEET_KEY>/edit#gid=0`\n",
    "\n",
    "![add_gsheet](../img/add_gsheet.png)"
   ]
  },
  {
   "cell_type": "code",
   "execution_count": 108,
   "metadata": {
    "id": "XlZ8JNB3bZbw"
   },
   "outputs": [],
   "source": [
    "# ACCES GOOGLE SHEET\n",
    "sheet_index_no = 0\n",
    "spreadsheet_key = '1CnhTgWg8Fk3CSAkcxfRPDHW6V6zQ2JvBecmiWNX0vkc' # input SPREADSHEET_KEY HERE\n",
    "sh = gc.open_by_key(spreadsheet_key)\n",
    "worksheet = sh.get_worksheet(sheet_index_no) #-> 0 - first sheet, 1 - second sheet etc. \n",
    "\n",
    "# APPEND DATA TO SHEET\n",
    "set_with_dataframe(worksheet, user_df) #-> Upload user_df vào Sheet đầu tiên trong Spreadsheet\n",
    "\n",
    "# DONE: Bây giờ bạn có thể mở spreadsheet và kiểm tra nội dung đã update chứ"
   ]
  },
  {
   "cell_type": "markdown",
   "metadata": {},
   "source": [
    "![slack_user_gsheet](../img/slack_user_gsheet.png)"
   ]
  },
  {
   "cell_type": "markdown",
   "metadata": {
    "id": "5I15m3ilyA3Y"
   },
   "source": [
    "-------------- HẾT PHẦN OPTION 1 ---------------------"
   ]
  },
  {
   "cell_type": "markdown",
   "metadata": {
    "id": "9aRN9KSczkmr"
   },
   "source": [
    "## Option 2: Ai đã nộp bài?\n"
   ]
  },
  {
   "cell_type": "markdown",
   "metadata": {
    "id": "Pw81ioUz2N0v"
   },
   "source": [
    "### Slack API: Channel List"
   ]
  },
  {
   "cell_type": "code",
   "execution_count": 22,
   "metadata": {
    "id": "fcdaDaGdz60p"
   },
   "outputs": [],
   "source": [
    "## Gọi SLACK API để list tất cả các channel\n",
    "endpoint = \"https://slack.com/api/conversations.list\"\n",
    "headers = {\"Authorization\": \"Bearer {}\".format(os.environ['SLACK_BEARER_TOKEN'])}\n",
    "response = requests.post(endpoint, headers=headers).json() \n",
    "channel_ls = response['channels']"
   ]
  },
  {
   "cell_type": "code",
   "execution_count": 70,
   "metadata": {
    "colab": {
     "base_uri": "https://localhost:8080/"
    },
    "id": "47dUJAPi0Jg5",
    "outputId": "2762f1e8-ff65-4994-c3e5-1ab0f5dc9205"
   },
   "outputs": [
    {
     "data": {
      "text/plain": [
       "[{'id': 'C01B4PVGLVB',\n",
       "  'name': 'general',\n",
       "  'is_channel': True,\n",
       "  'is_group': False,\n",
       "  'is_im': False,\n",
       "  'created': 1600856703,\n",
       "  'is_archived': False,\n",
       "  'is_general': True,\n",
       "  'unlinked': 0,\n",
       "  'name_normalized': 'general',\n",
       "  'is_shared': False,\n",
       "  'parent_conversation': None,\n",
       "  'creator': 'U01BE2PR6LU',\n",
       "  'is_ext_shared': False,\n",
       "  'is_org_shared': False,\n",
       "  'shared_team_ids': ['T01B7SGGMLJ'],\n",
       "  'pending_shared': [],\n",
       "  'pending_connected_team_ids': [],\n",
       "  'is_pending_ext_shared': False,\n",
       "  'is_member': False,\n",
       "  'is_private': False,\n",
       "  'is_mpim': False,\n",
       "  'topic': {'value': '', 'creator': '', 'last_set': 0},\n",
       "  'purpose': {'value': 'This is the one channel that will always include everyone. It’s a great spot for announcements and team-wide conversations.',\n",
       "   'creator': 'U01BE2PR6LU',\n",
       "   'last_set': 1600856703},\n",
       "  'previous_names': [],\n",
       "  'num_members': 63},\n",
       " {'id': 'C01BYH7JHB5',\n",
       "  'name': 'contents',\n",
       "  'is_channel': True,\n",
       "  'is_group': False,\n",
       "  'is_im': False,\n",
       "  'created': 1601882889,\n",
       "  'is_archived': False,\n",
       "  'is_general': False,\n",
       "  'unlinked': 0,\n",
       "  'name_normalized': 'contents',\n",
       "  'is_shared': False,\n",
       "  'parent_conversation': None,\n",
       "  'creator': 'U01BE2PR6LU',\n",
       "  'is_ext_shared': False,\n",
       "  'is_org_shared': False,\n",
       "  'shared_team_ids': ['T01B7SGGMLJ'],\n",
       "  'pending_shared': [],\n",
       "  'pending_connected_team_ids': [],\n",
       "  'is_pending_ext_shared': False,\n",
       "  'is_member': False,\n",
       "  'is_private': False,\n",
       "  'is_mpim': False,\n",
       "  'topic': {'value': '', 'creator': '', 'last_set': 0},\n",
       "  'purpose': {'value': '', 'creator': '', 'last_set': 0},\n",
       "  'previous_names': [],\n",
       "  'num_members': 11},\n",
       " {'id': 'C01CAMNCJJV',\n",
       "  'name': 'branding-design',\n",
       "  'is_channel': True,\n",
       "  'is_group': False,\n",
       "  'is_im': False,\n",
       "  'created': 1601867790,\n",
       "  'is_archived': False,\n",
       "  'is_general': False,\n",
       "  'unlinked': 0,\n",
       "  'name_normalized': 'branding-design',\n",
       "  'is_shared': False,\n",
       "  'parent_conversation': None,\n",
       "  'creator': 'U01AVDY7JET',\n",
       "  'is_ext_shared': False,\n",
       "  'is_org_shared': False,\n",
       "  'shared_team_ids': ['T01B7SGGMLJ'],\n",
       "  'pending_shared': [],\n",
       "  'pending_connected_team_ids': [],\n",
       "  'is_pending_ext_shared': False,\n",
       "  'is_member': False,\n",
       "  'is_private': False,\n",
       "  'is_mpim': False,\n",
       "  'topic': {'value': '', 'creator': '', 'last_set': 0},\n",
       "  'purpose': {'value': '', 'creator': '', 'last_set': 0},\n",
       "  'previous_names': [],\n",
       "  'num_members': 9},\n",
       " {'id': 'C01U6P7LZ8F',\n",
       "  'name': 'atom-assignment1',\n",
       "  'is_channel': True,\n",
       "  'is_group': False,\n",
       "  'is_im': False,\n",
       "  'created': 1618642804,\n",
       "  'is_archived': False,\n",
       "  'is_general': False,\n",
       "  'unlinked': 0,\n",
       "  'name_normalized': 'atom-assignment1',\n",
       "  'is_shared': False,\n",
       "  'parent_conversation': None,\n",
       "  'creator': 'U01BE2PR6LU',\n",
       "  'is_ext_shared': False,\n",
       "  'is_org_shared': False,\n",
       "  'shared_team_ids': ['T01B7SGGMLJ'],\n",
       "  'pending_shared': [],\n",
       "  'pending_connected_team_ids': [],\n",
       "  'is_pending_ext_shared': False,\n",
       "  'is_member': True,\n",
       "  'is_private': False,\n",
       "  'is_mpim': False,\n",
       "  'topic': {'value': 'Assigment#1 - Python Basics &amp; Spreadsheet Analysis',\n",
       "   'creator': 'U01BE2PR6LU',\n",
       "   'last_set': 1621074484},\n",
       "  'purpose': {'value': 'Where learners submit assignments and give review for others',\n",
       "   'creator': 'U01BE2PR6LU',\n",
       "   'last_set': 1621074440},\n",
       "  'previous_names': [],\n",
       "  'num_members': 43},\n",
       " {'id': 'C01UL6K1C7L',\n",
       "  'name': 'atom-week1',\n",
       "  'is_channel': True,\n",
       "  'is_group': False,\n",
       "  'is_im': False,\n",
       "  'created': 1618595072,\n",
       "  'is_archived': False,\n",
       "  'is_general': False,\n",
       "  'unlinked': 0,\n",
       "  'name_normalized': 'atom-week1',\n",
       "  'is_shared': False,\n",
       "  'parent_conversation': None,\n",
       "  'creator': 'U01BE2PR6LU',\n",
       "  'is_ext_shared': False,\n",
       "  'is_org_shared': False,\n",
       "  'shared_team_ids': ['T01B7SGGMLJ'],\n",
       "  'pending_shared': [],\n",
       "  'pending_connected_team_ids': [],\n",
       "  'is_pending_ext_shared': False,\n",
       "  'is_member': False,\n",
       "  'is_private': False,\n",
       "  'is_mpim': False,\n",
       "  'topic': {'value': 'TOPIC: Data Strategy. Metrics Design. Spreadsheet.',\n",
       "   'creator': 'U01BE2PR6LU',\n",
       "   'last_set': 1618595089},\n",
       "  'purpose': {'value': 'TOPIC: Data Strategy. Metrics Design. Spreadsheet.',\n",
       "   'creator': 'U01BE2PR6LU',\n",
       "   'last_set': 1618595073},\n",
       "  'previous_names': [],\n",
       "  'num_members': 41},\n",
       " {'id': 'C01ULCHGN75',\n",
       "  'name': 'atom-general',\n",
       "  'is_channel': True,\n",
       "  'is_group': False,\n",
       "  'is_im': False,\n",
       "  'created': 1618594940,\n",
       "  'is_archived': False,\n",
       "  'is_general': False,\n",
       "  'unlinked': 0,\n",
       "  'name_normalized': 'atom-general',\n",
       "  'is_shared': False,\n",
       "  'parent_conversation': None,\n",
       "  'creator': 'U01BE2PR6LU',\n",
       "  'is_ext_shared': False,\n",
       "  'is_org_shared': False,\n",
       "  'shared_team_ids': ['T01B7SGGMLJ'],\n",
       "  'pending_shared': [],\n",
       "  'pending_connected_team_ids': [],\n",
       "  'is_pending_ext_shared': False,\n",
       "  'is_member': False,\n",
       "  'is_private': False,\n",
       "  'is_mpim': False,\n",
       "  'topic': {'value': 'General communication channel of ATOM',\n",
       "   'creator': 'U01BE2PR6LU',\n",
       "   'last_set': 1618595099},\n",
       "  'purpose': {'value': 'General communication channel of ATOM',\n",
       "   'creator': 'U01BE2PR6LU',\n",
       "   'last_set': 1618594941},\n",
       "  'previous_names': [],\n",
       "  'num_members': 22},\n",
       " {'id': 'C020VMT58JK',\n",
       "  'name': 'topics-data-analytics',\n",
       "  'is_channel': True,\n",
       "  'is_group': False,\n",
       "  'is_im': False,\n",
       "  'created': 1620453940,\n",
       "  'is_archived': False,\n",
       "  'is_general': False,\n",
       "  'unlinked': 0,\n",
       "  'name_normalized': 'topics-data-analytics',\n",
       "  'is_shared': False,\n",
       "  'parent_conversation': None,\n",
       "  'creator': 'U01BE2PR6LU',\n",
       "  'is_ext_shared': False,\n",
       "  'is_org_shared': False,\n",
       "  'shared_team_ids': ['T01B7SGGMLJ'],\n",
       "  'pending_shared': [],\n",
       "  'pending_connected_team_ids': [],\n",
       "  'is_pending_ext_shared': False,\n",
       "  'is_member': False,\n",
       "  'is_private': False,\n",
       "  'is_mpim': False,\n",
       "  'topic': {'value': '', 'creator': '', 'last_set': 0},\n",
       "  'purpose': {'value': '', 'creator': '', 'last_set': 0},\n",
       "  'previous_names': ['discuss-data-analytics'],\n",
       "  'num_members': 5},\n",
       " {'id': 'C0213MNH9L6',\n",
       "  'name': 'topics-python',\n",
       "  'is_channel': True,\n",
       "  'is_group': False,\n",
       "  'is_im': False,\n",
       "  'created': 1620453921,\n",
       "  'is_archived': False,\n",
       "  'is_general': False,\n",
       "  'unlinked': 0,\n",
       "  'name_normalized': 'topics-python',\n",
       "  'is_shared': False,\n",
       "  'parent_conversation': None,\n",
       "  'creator': 'U01BE2PR6LU',\n",
       "  'is_ext_shared': False,\n",
       "  'is_org_shared': False,\n",
       "  'shared_team_ids': ['T01B7SGGMLJ'],\n",
       "  'pending_shared': [],\n",
       "  'pending_connected_team_ids': [],\n",
       "  'is_pending_ext_shared': False,\n",
       "  'is_member': False,\n",
       "  'is_private': False,\n",
       "  'is_mpim': False,\n",
       "  'topic': {'value': '', 'creator': '', 'last_set': 0},\n",
       "  'purpose': {'value': 'Channel để thảo luận về Python',\n",
       "   'creator': 'U01BE2PR6LU',\n",
       "   'last_set': 1620453923},\n",
       "  'previous_names': ['topics-discuss-python', 'discuss-python'],\n",
       "  'num_members': 26},\n",
       " {'id': 'C0213N56M2A',\n",
       "  'name': 'topics-materials',\n",
       "  'is_channel': True,\n",
       "  'is_group': False,\n",
       "  'is_im': False,\n",
       "  'created': 1620455498,\n",
       "  'is_archived': False,\n",
       "  'is_general': False,\n",
       "  'unlinked': 0,\n",
       "  'name_normalized': 'topics-materials',\n",
       "  'is_shared': False,\n",
       "  'parent_conversation': None,\n",
       "  'creator': 'U01BE2PR6LU',\n",
       "  'is_ext_shared': False,\n",
       "  'is_org_shared': False,\n",
       "  'shared_team_ids': ['T01B7SGGMLJ'],\n",
       "  'pending_shared': [],\n",
       "  'pending_connected_team_ids': [],\n",
       "  'is_pending_ext_shared': False,\n",
       "  'is_member': False,\n",
       "  'is_private': False,\n",
       "  'is_mpim': False,\n",
       "  'topic': {'value': '', 'creator': '', 'last_set': 0},\n",
       "  'purpose': {'value': '', 'creator': '', 'last_set': 0},\n",
       "  'previous_names': [],\n",
       "  'num_members': 19},\n",
       " {'id': 'C021FSDN7LJ',\n",
       "  'name': 'atom-assignment2',\n",
       "  'is_channel': True,\n",
       "  'is_group': False,\n",
       "  'is_im': False,\n",
       "  'created': 1620677142,\n",
       "  'is_archived': False,\n",
       "  'is_general': False,\n",
       "  'unlinked': 0,\n",
       "  'name_normalized': 'atom-assignment2',\n",
       "  'is_shared': False,\n",
       "  'parent_conversation': None,\n",
       "  'creator': 'U01BE2PR6LU',\n",
       "  'is_ext_shared': False,\n",
       "  'is_org_shared': False,\n",
       "  'shared_team_ids': ['T01B7SGGMLJ'],\n",
       "  'pending_shared': [],\n",
       "  'pending_connected_team_ids': [],\n",
       "  'is_pending_ext_shared': False,\n",
       "  'is_member': True,\n",
       "  'is_private': False,\n",
       "  'is_mpim': False,\n",
       "  'topic': {'value': 'Assigment#2 - Mailbot, API, Web Scrapping',\n",
       "   'creator': 'U01BE2PR6LU',\n",
       "   'last_set': 1621074502},\n",
       "  'purpose': {'value': 'Where learners submit assignments and give review for others',\n",
       "   'creator': 'U01BE2PR6LU',\n",
       "   'last_set': 1621074519},\n",
       "  'previous_names': [],\n",
       "  'num_members': 39},\n",
       " {'id': 'C02204B2CD6',\n",
       "  'name': 'atom-week2',\n",
       "  'is_channel': True,\n",
       "  'is_group': False,\n",
       "  'is_im': False,\n",
       "  'created': 1620438322,\n",
       "  'is_archived': False,\n",
       "  'is_general': False,\n",
       "  'unlinked': 0,\n",
       "  'name_normalized': 'atom-week2',\n",
       "  'is_shared': False,\n",
       "  'parent_conversation': None,\n",
       "  'creator': 'U01BE2PR6LU',\n",
       "  'is_ext_shared': False,\n",
       "  'is_org_shared': False,\n",
       "  'shared_team_ids': ['T01B7SGGMLJ'],\n",
       "  'pending_shared': [],\n",
       "  'pending_connected_team_ids': [],\n",
       "  'is_pending_ext_shared': False,\n",
       "  'is_member': False,\n",
       "  'is_private': False,\n",
       "  'is_mpim': False,\n",
       "  'topic': {'value': 'TOPIC: Python Basics &amp; Git',\n",
       "   'creator': 'U01BE2PR6LU',\n",
       "   'last_set': 1621074535},\n",
       "  'purpose': {'value': 'Data tools (2): Github &amp; Python Basics',\n",
       "   'creator': 'U01BE2PR6LU',\n",
       "   'last_set': 1620438323},\n",
       "  'previous_names': [],\n",
       "  'num_members': 22},\n",
       " {'id': 'C0226D3LEQ4',\n",
       "  'name': 'atom-week3',\n",
       "  'is_channel': True,\n",
       "  'is_group': False,\n",
       "  'is_im': False,\n",
       "  'created': 1621044045,\n",
       "  'is_archived': False,\n",
       "  'is_general': False,\n",
       "  'unlinked': 0,\n",
       "  'name_normalized': 'atom-week3',\n",
       "  'is_shared': False,\n",
       "  'parent_conversation': None,\n",
       "  'creator': 'U01BE2PR6LU',\n",
       "  'is_ext_shared': False,\n",
       "  'is_org_shared': False,\n",
       "  'shared_team_ids': ['T01B7SGGMLJ'],\n",
       "  'pending_shared': [],\n",
       "  'pending_connected_team_ids': [],\n",
       "  'is_pending_ext_shared': False,\n",
       "  'is_member': False,\n",
       "  'is_private': False,\n",
       "  'is_mpim': False,\n",
       "  'topic': {'value': 'TOPIC: API, JSON, Mailbot, Web Scrapping',\n",
       "   'creator': 'U01BE2PR6LU',\n",
       "   'last_set': 1621074556},\n",
       "  'purpose': {'value': '', 'creator': '', 'last_set': 0},\n",
       "  'previous_names': [],\n",
       "  'num_members': 23},\n",
       " {'id': 'C0227A51SAY',\n",
       "  'name': 'atom-assignment3',\n",
       "  'is_channel': True,\n",
       "  'is_group': False,\n",
       "  'is_im': False,\n",
       "  'created': 1621125573,\n",
       "  'is_archived': False,\n",
       "  'is_general': False,\n",
       "  'unlinked': 0,\n",
       "  'name_normalized': 'atom-assignment3',\n",
       "  'is_shared': False,\n",
       "  'parent_conversation': None,\n",
       "  'creator': 'U01BE2PR6LU',\n",
       "  'is_ext_shared': False,\n",
       "  'is_org_shared': False,\n",
       "  'shared_team_ids': ['T01B7SGGMLJ'],\n",
       "  'pending_shared': [],\n",
       "  'pending_connected_team_ids': [],\n",
       "  'is_pending_ext_shared': False,\n",
       "  'is_member': True,\n",
       "  'is_private': False,\n",
       "  'is_mpim': False,\n",
       "  'topic': {'value': '', 'creator': '', 'last_set': 0},\n",
       "  'purpose': {'value': '', 'creator': '', 'last_set': 0},\n",
       "  'previous_names': [],\n",
       "  'num_members': 34}]"
      ]
     },
     "execution_count": 70,
     "metadata": {},
     "output_type": "execute_result"
    }
   ],
   "source": [
    "channel_ls## Thử extract record đầu tiên để xem schema  => name: general, id: C01B4PVGLVB"
   ]
  },
  {
   "cell_type": "markdown",
   "metadata": {
    "id": "CNFTcFC00l8g"
   },
   "source": [
    "### TODO#3 \n",
    "* Tìm id của channel #atom-assignment2"
   ]
  },
  {
   "cell_type": "markdown",
   "metadata": {
    "id": "EnCvdYAn2R47"
   },
   "source": [
    "### Slack API: List messages trong 1 channel"
   ]
  },
  {
   "cell_type": "code",
   "execution_count": 55,
   "metadata": {
    "id": "1UsSESN8rtnk"
   },
   "outputs": [],
   "source": [
    "endpoint = \"https://slack.com/api/conversations.history\"\n",
    "data = {\"channel\": \"C021FSDN7LJ\"} ## This is ID of assignment#1 channel\n",
    "headers = {\"Authorization\": \"Bearer {}\".format(os.environ['SLACK_BEARER_TOKEN'])}"
   ]
  },
  {
   "cell_type": "code",
   "execution_count": 56,
   "metadata": {
    "id": "i8eJw3LBr4lY"
   },
   "outputs": [],
   "source": [
    "response_json = requests.post(endpoint, data=data, headers=headers).json()\n",
    "msg_ls = response_json['messages']"
   ]
  },
  {
   "cell_type": "code",
   "execution_count": 57,
   "metadata": {
    "colab": {
     "base_uri": "https://localhost:8080/"
    },
    "id": "KkYO1KcBtZa9",
    "outputId": "7a76397b-202b-445e-aa26-f4b30cfc9a53"
   },
   "outputs": [
    {
     "data": {
      "text/plain": [
       "{'client_msg_id': 'aaba8085-619a-4251-a5b6-f39c105288e1',\n",
       " 'type': 'message',\n",
       " 'text': 'Mình gửi Assignment 2 nhé\\n<https://github.com/AnhThuNguyenHuynh/atom-assignments/tree/main/assignment_2>',\n",
       " 'user': 'U01VB63LRNC',\n",
       " 'ts': '1621043095.002400',\n",
       " 'team': 'T01B7SGGMLJ',\n",
       " 'blocks': [{'type': 'rich_text',\n",
       "   'block_id': 'tEY',\n",
       "   'elements': [{'type': 'rich_text_section',\n",
       "     'elements': [{'type': 'text', 'text': 'Mình gửi Assignment 2 nhé\\n'},\n",
       "      {'type': 'link',\n",
       "       'url': 'https://github.com/AnhThuNguyenHuynh/atom-assignments/tree/main/assignment_2'}]}]}],\n",
       " 'thread_ts': '1621043095.002400',\n",
       " 'reply_count': 1,\n",
       " 'reply_users_count': 1,\n",
       " 'latest_reply': '1621437287.007100',\n",
       " 'reply_users': ['U01UMJ36QD9'],\n",
       " 'is_locked': False,\n",
       " 'subscribed': False,\n",
       " 'reactions': [{'name': 'construction', 'users': ['U01UMJ36QD9'], 'count': 1}]}"
      ]
     },
     "execution_count": 57,
     "metadata": {},
     "output_type": "execute_result"
    }
   ],
   "source": [
    "msg_ls[21]"
   ]
  },
  {
   "cell_type": "code",
   "execution_count": 58,
   "metadata": {
    "id": "BsW8CXAXv-tC"
   },
   "outputs": [],
   "source": [
    "not_learners_id = ['U01BE2PR6LU']"
   ]
  },
  {
   "cell_type": "code",
   "execution_count": 59,
   "metadata": {
    "colab": {
     "base_uri": "https://localhost:8080/"
    },
    "id": "XOvJ5kGCsmAD",
    "outputId": "79567aaf-62bd-4091-deca-6e13c1c80e79"
   },
   "outputs": [],
   "source": [
    "## Summarize all submitted assignments + reviews cnt\n",
    "not_learners_id = ['U01BE2PR6LU'] # -> Remove MA from the user_id\n",
    "github, reply_count, reply_users_count, reply_users, latest_reply = '','','','',''\n",
    "msg_dict = {'ts': [], 'user': [], 'reply_count': [], 'reply_users_count': [], 'reply_users': [], 'latest_reply': [], 'github': []}\n",
    "for i in range(len(msg_ls)):\n",
    "    ts = dt.fromtimestamp(float(msg_ls[i]['ts'])) # -> Convert timestamp Epoch thành dạng dễ đọc\n",
    "    user = msg_ls[i]['user'] # -> Lấy thông tin người post messages\n",
    "    if msg_ls[i]['user'] not in not_learners_id:\n",
    "        if 'attachments' in msg_ls[i].keys():\n",
    "      # print(msg_ls[i].keys())\n",
    "            text = msg_ls[i]['text']\n",
    "            github_link = re.findall('(?:https?://)?(?:www[.])?github[.]com/[\\w-]+/?', text) #-> Submission là các message có link github\n",
    "      # print(msg_ls[i])\n",
    "            if len(github_link) > 0: github = github_link[0]\n",
    "            if 'reply_count' in msg_ls[i].keys(): reply_count = msg_ls[i]['reply_count'] #-> Extract số review\n",
    "            if 'reply_users_count' in msg_ls[i].keys(): reply_users_count = msg_ls[i]['reply_users_count']\n",
    "            if 'reply_users' in msg_ls[i].keys(): reply_users = msg_ls[i]['reply_users']\n",
    "            if 'latest_reply' in msg_ls[i].keys(): latest_reply = dt.fromtimestamp(float(msg_ls[i]['latest_reply']))\n",
    "            msg_dict['ts'].append(ts)\n",
    "            msg_dict['user'].append(user)\n",
    "            msg_dict['reply_count'].append(reply_count)\n",
    "            msg_dict['reply_users_count'].append(reply_users_count)\n",
    "            msg_dict['reply_users'].append(reply_users)\n",
    "            msg_dict['latest_reply'].append(latest_reply)\n",
    "            msg_dict['github'].append(github)"
   ]
  },
  {
   "cell_type": "markdown",
   "metadata": {
    "id": "SgSC21qO3kKA"
   },
   "source": [
    "### TODO#4\n",
    "* Tạo thành 1 bảng chứa các thông tin trên và update lên Spreadsheet (Sheet: Assignment#2 Submission)"
   ]
  },
  {
   "cell_type": "code",
   "execution_count": 60,
   "metadata": {},
   "outputs": [
    {
     "data": {
      "text/html": [
       "<div>\n",
       "<style scoped>\n",
       "    .dataframe tbody tr th:only-of-type {\n",
       "        vertical-align: middle;\n",
       "    }\n",
       "\n",
       "    .dataframe tbody tr th {\n",
       "        vertical-align: top;\n",
       "    }\n",
       "\n",
       "    .dataframe thead th {\n",
       "        text-align: right;\n",
       "    }\n",
       "</style>\n",
       "<table border=\"1\" class=\"dataframe\">\n",
       "  <thead>\n",
       "    <tr style=\"text-align: right;\">\n",
       "      <th></th>\n",
       "      <th>ts</th>\n",
       "      <th>user</th>\n",
       "      <th>reply_count</th>\n",
       "      <th>reply_users_count</th>\n",
       "      <th>reply_users</th>\n",
       "      <th>latest_reply</th>\n",
       "      <th>github</th>\n",
       "    </tr>\n",
       "  </thead>\n",
       "  <tbody>\n",
       "    <tr>\n",
       "      <th>0</th>\n",
       "      <td>2021-05-17 07:28:18.005500</td>\n",
       "      <td>U01UTGRMGEQ</td>\n",
       "      <td></td>\n",
       "      <td></td>\n",
       "      <td></td>\n",
       "      <td>NaT</td>\n",
       "      <td>https://github.com/nguyenhonghanh2511/</td>\n",
       "    </tr>\n",
       "    <tr>\n",
       "      <th>1</th>\n",
       "      <td>2021-05-15 09:01:57.003500</td>\n",
       "      <td>U01UJ9M3P1T</td>\n",
       "      <td></td>\n",
       "      <td></td>\n",
       "      <td></td>\n",
       "      <td>NaT</td>\n",
       "      <td>https://github.com/cnhhoang850/</td>\n",
       "    </tr>\n",
       "    <tr>\n",
       "      <th>2</th>\n",
       "      <td>2021-05-15 06:54:46.001200</td>\n",
       "      <td>U01UJ9P1S3X</td>\n",
       "      <td>1</td>\n",
       "      <td>1</td>\n",
       "      <td>[U01V00JK9LH]</td>\n",
       "      <td>2021-05-21 00:57:31.020900</td>\n",
       "      <td>https://github.com/lethuthao1368/</td>\n",
       "    </tr>\n",
       "    <tr>\n",
       "      <th>3</th>\n",
       "      <td>2021-05-15 01:14:27.022900</td>\n",
       "      <td>U01UTGVPE7N</td>\n",
       "      <td>1</td>\n",
       "      <td>1</td>\n",
       "      <td>[U01V00JK9LH]</td>\n",
       "      <td>2021-05-21 00:57:31.020900</td>\n",
       "      <td>https://github.com/hoaintp/</td>\n",
       "    </tr>\n",
       "    <tr>\n",
       "      <th>4</th>\n",
       "      <td>2021-05-14 23:57:51.019900</td>\n",
       "      <td>U01UMJ451V1</td>\n",
       "      <td>4</td>\n",
       "      <td>3</td>\n",
       "      <td>[U01UMJ451V1, U01UMC0N5U2, U01UMJ36QD9]</td>\n",
       "      <td>2021-05-21 21:25:32.007200</td>\n",
       "      <td>https://github.com/annaho124/</td>\n",
       "    </tr>\n",
       "  </tbody>\n",
       "</table>\n",
       "</div>"
      ],
      "text/plain": [
       "                          ts         user reply_count reply_users_count  \\\n",
       "0 2021-05-17 07:28:18.005500  U01UTGRMGEQ                                 \n",
       "1 2021-05-15 09:01:57.003500  U01UJ9M3P1T                                 \n",
       "2 2021-05-15 06:54:46.001200  U01UJ9P1S3X           1                 1   \n",
       "3 2021-05-15 01:14:27.022900  U01UTGVPE7N           1                 1   \n",
       "4 2021-05-14 23:57:51.019900  U01UMJ451V1           4                 3   \n",
       "\n",
       "                               reply_users               latest_reply  \\\n",
       "0                                                                 NaT   \n",
       "1                                                                 NaT   \n",
       "2                            [U01V00JK9LH] 2021-05-21 00:57:31.020900   \n",
       "3                            [U01V00JK9LH] 2021-05-21 00:57:31.020900   \n",
       "4  [U01UMJ451V1, U01UMC0N5U2, U01UMJ36QD9] 2021-05-21 21:25:32.007200   \n",
       "\n",
       "                                   github  \n",
       "0  https://github.com/nguyenhonghanh2511/  \n",
       "1         https://github.com/cnhhoang850/  \n",
       "2       https://github.com/lethuthao1368/  \n",
       "3             https://github.com/hoaintp/  \n",
       "4           https://github.com/annaho124/  "
      ]
     },
     "execution_count": 60,
     "metadata": {},
     "output_type": "execute_result"
    }
   ],
   "source": [
    "msg_df = pd.DataFrame(msg_dict)\n",
    "msg_df.head(5)"
   ]
  },
  {
   "cell_type": "code",
   "execution_count": 62,
   "metadata": {},
   "outputs": [],
   "source": [
    "# ACCES GOOGLE SHEET\n",
    "sheet_index_no = 1\n",
    "spreadsheet_key = '1CnhTgWg8Fk3CSAkcxfRPDHW6V6zQ2JvBecmiWNX0vkc' \n",
    "sh = gc.open_by_key(spreadsheet_key)\n",
    "worksheet = sh.get_worksheet(sheet_index_no)  \n",
    "set_with_dataframe(worksheet, msg_df) "
   ]
  },
  {
   "cell_type": "markdown",
   "metadata": {
    "id": "698exK3k35RM"
   },
   "source": [
    "-------------- HẾT PHẦN OPTION 2 ---------------------"
   ]
  },
  {
   "cell_type": "code",
   "execution_count": null,
   "metadata": {},
   "outputs": [],
   "source": []
  }
 ],
 "metadata": {
  "colab": {
   "collapsed_sections": [],
   "name": "Slack-Data.ipynb",
   "provenance": []
  },
  "kernelspec": {
   "display_name": "Python 3",
   "language": "python",
   "name": "python3"
  },
  "language_info": {
   "codemirror_mode": {
    "name": "ipython",
    "version": 3
   },
   "file_extension": ".py",
   "mimetype": "text/x-python",
   "name": "python",
   "nbconvert_exporter": "python",
   "pygments_lexer": "ipython3",
   "version": "3.8.1"
  }
 },
 "nbformat": 4,
 "nbformat_minor": 1
}
