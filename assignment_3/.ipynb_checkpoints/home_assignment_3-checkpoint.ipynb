{
 "cells": [
  {
   "cell_type": "markdown",
   "metadata": {
    "id": "4w2e0D-hni2p"
   },
   "source": [
    "# HOME ASSIGNMENT #3: SLACK API - TO GSHEET\n",
    "**Mục đích của bài Assignment**\n",
    "- Lấy thông tin các Users từ Slack của DataCracy (BTC, Mentors và Learners)\n",
    "- `**[Optional 1]**` Đưa danh sách Users lên Google Spreadsheet, để theo dõi \n",
    "- `**[Optional 2]**` Lấy thông tin Assignment Submission và số Reviews trên `#atom-assignmentnt2` và cập nhật lên Spreadsheet, để theo dõi các học viên đã nộp bài và được review\n",
    "\n",
    "**Các kiến thức sẽ áp dụng**\n",
    "- Ôn lại và luyện tập thêm về concept API (cụ thể sử dụng API Slack)\n",
    "- Trích xuất thông tin từ JSON\n",
    "- Dùng module gspread để đưa thông tin lên Google Spreadsheet"
   ]
  },
  {
   "cell_type": "markdown",
   "metadata": {
    "id": "yitICPVzpRI2"
   },
   "source": [
    "## 0. Load Modules"
   ]
  },
  {
   "cell_type": "code",
   "execution_count": 6,
   "metadata": {},
   "outputs": [
    {
     "name": "stdout",
     "output_type": "stream",
     "text": [
      "Collecting oauth2client\n",
      "  Downloading oauth2client-4.1.3-py2.py3-none-any.whl (98 kB)\n",
      "Collecting httplib2>=0.9.1\n",
      "  Downloading httplib2-0.19.1-py3-none-any.whl (95 kB)\n",
      "Requirement already satisfied: six>=1.6.1 in c:\\users\\admin\\appdata\\local\\programs\\python\\python38-32\\lib\\site-packages (from oauth2client) (1.15.0)\n",
      "Requirement already satisfied: pyasn1>=0.1.7 in c:\\users\\admin\\appdata\\local\\programs\\python\\python38-32\\lib\\site-packages (from oauth2client) (0.4.8)\n",
      "Requirement already satisfied: rsa>=3.1.4 in c:\\users\\admin\\appdata\\local\\programs\\python\\python38-32\\lib\\site-packages (from oauth2client) (4.7.2)\n",
      "Requirement already satisfied: pyasn1-modules>=0.0.5 in c:\\users\\admin\\appdata\\local\\programs\\python\\python38-32\\lib\\site-packages (from oauth2client) (0.2.8)\n",
      "Requirement already satisfied: pyparsing<3,>=2.4.2 in c:\\users\\admin\\appdata\\local\\programs\\python\\python38-32\\lib\\site-packages (from httplib2>=0.9.1->oauth2client) (2.4.7)\n",
      "Installing collected packages: httplib2, oauth2client\n",
      "Successfully installed httplib2-0.19.1 oauth2client-4.1.3\n"
     ]
    }
   ],
   "source": [
    "!pip install oauth2client"
   ]
  },
  {
   "cell_type": "code",
   "execution_count": 7,
   "metadata": {
    "id": "G_HCucZ5rSHq"
   },
   "outputs": [],
   "source": [
    "import requests #-> Để gọi API\n",
    "import re #-> Để xử lý data dạng string\n",
    "from datetime import datetime as dt #-> Để xử lý data dạng datetime\n",
    "import gspread #-> Để update data lên Google Spreadsheet\n",
    "from gspread_dataframe import set_with_dataframe #-> Để update data lên Google Spreadsheet\n",
    "import pandas as pd #-> Để update data dạng bản\n",
    "import json \n",
    "from oauth2client.service_account import ServiceAccountCredentials #-> Để nhập Google Spreadsheet Credentials\n",
    "import os"
   ]
  },
  {
   "cell_type": "markdown",
   "metadata": {
    "id": "z7HOk6uMp2K2"
   },
   "source": [
    "## 1. Slack API: User List\n",
    "* Bạn có thể đọc lại về concept API [HERE](https://anhdang.gitbook.io/datacracy/atom/3-data-tools-2/3.2-spotify-api-and-postman)\n",
    "* Assignment này sẽ dùng Slack API để lấy thông tin về Learners và theo dõi các bài tập đã nộp và được review (sau đó cập nhật lên Google Spreadsheet)\n",
    "* ===> **NOTICE**: Slack API authorize bằng Bearer Token `xoxb-...-...-...` (Sẽ được cung cấp riêng)\n",
    "* Update file `env_variable.json` như trong [Assignment#2](../assignment_2/home_assignment_2.ipynb)\n",
    "* ==> Nếu bạn dùng Google Colab, upload file vào Colab ([Hướng dẫn](https://colab.research.google.com/notebooks/io.ipynb))"
   ]
  },
  {
   "cell_type": "code",
   "execution_count": 10,
   "metadata": {
    "colab": {
     "base_uri": "https://localhost:8080/"
    },
    "id": "YoSEHfdTwYRj",
    "outputId": "02b1f5e1-6f9a-4c2b-a481-33284324d1cc"
   },
   "outputs": [
    {
     "name": "stdout",
     "output_type": "stream",
     "text": [
      " Volume in drive C is OS 10\n",
      " Volume Serial Number is 2C5E-73D5\n",
      "\n",
      " Directory of C:\\Users\\Admin\\OneDrive\\Ta`i liˆ?u\\GitHub\\atom-assignments\\assignment_3\n",
      "\n",
      "17/05/2021  21:12    <DIR>          .\n",
      "17/05/2021  21:12    <DIR>          ..\n",
      "17/05/2021  21:00    <DIR>          .ipynb_checkpoints\n",
      "17/05/2021  21:12            27,101 home_assignment_3.ipynb\n",
      "16/05/2021  20:36               238 README.md\n",
      "               2 File(s)         27,339 bytes\n",
      "               3 Dir(s)  21,717,733,376 bytes free\n"
     ]
    }
   ],
   "source": [
    "!dir"
   ]
  },
  {
   "cell_type": "code",
   "execution_count": 164,
   "metadata": {
    "id": "tFPqT2pirhy4"
   },
   "outputs": [],
   "source": [
    "with open('env_variable.json', 'r') as j:\n",
    "    json_data = json.load(j)\n",
    "    # print(json_data)"
   ]
  },
  {
   "cell_type": "code",
   "execution_count": 167,
   "metadata": {
    "id": "wAzmaVTLrpvH"
   },
   "outputs": [],
   "source": [
    "## Load SLACK_BEARER_TOKEN\n",
    "os.environ['SLACK_BEARER_TOKEN'] = json_data['SLACK_BEARER_TOKEN'] "
   ]
  },
  {
   "cell_type": "code",
   "execution_count": 168,
   "metadata": {
    "id": "K_TrDTx138jD"
   },
   "outputs": [],
   "source": [
    "## Gọi API từ Endpoints (Input - Token được đưa vào Headers)\n",
    "## Challenge: Thử gọi API này bằng Postman\n",
    "endpoint = \"https://slack.com/api/users.list\"\n",
    "headers = {\"Authorization\": \"Bearer {}\".format(os.environ['SLACK_BEARER_TOKEN'])}\n",
    "response_json = requests.post(endpoint, headers=headers).json() \n",
    "user_dat = response_json['members']"
   ]
  },
  {
   "cell_type": "markdown",
   "metadata": {
    "id": "rqEti4Y50tdB"
   },
   "source": [
    "### TODO #1\n",
    "Hoàn tất đoạn code sau"
   ]
  },
  {
   "cell_type": "code",
   "execution_count": 169,
   "metadata": {
    "id": "P0qbkdhtD9ww"
   },
   "outputs": [],
   "source": [
    "## Loop qua JSON file và extract các thông tin quan trọng (id, name, display_name, real_name_normalized, title, phone, is_bot)\n",
    "## Hint: Bạn có thể dùng Postman hoặc in user_dat JSON để xem cấu trúc (schema), dùng Ctrl+F để tìm các keys (id, name, display_name, real_name_normalized, title, phone, is_bot)\n",
    "user_dict = {'user_id':[], 'name':[], 'display_name':[],'real_name':[],'title':[],'phone':[],'is_bot':[]}\n",
    "for i in range(len(user_dat)):\n",
    "  user_dict['user_id'].append(user_dat[i]['id'])\n",
    "  user_dict['name'].append(user_dat[i]['name'])\n",
    "  user_dict['display_name'].append(user_dat[i]['profile']['display_name'])\n",
    "  user_dict['real_name'].append(user_dat[i]['profile']['real_name_normalized'])\n",
    "  user_dict['title'].append(user_dat[i]['profile']['title'])\n",
    "  user_dict['phone'].append(user_dat[i]['profile']['phone'])\n",
    "  user_dict['is_bot'].append(user_dat[i]['is_bot'])"
   ]
  },
  {
   "cell_type": "code",
   "execution_count": 170,
   "metadata": {
    "colab": {
     "base_uri": "https://localhost:8080/",
     "height": 204
    },
    "id": "yGNvsCauF8_w",
    "outputId": "dfc4c6f7-845c-4202-8fc7-43aeb328554a"
   },
   "outputs": [
    {
     "data": {
      "text/html": [
       "<div>\n",
       "<style scoped>\n",
       "    .dataframe tbody tr th:only-of-type {\n",
       "        vertical-align: middle;\n",
       "    }\n",
       "\n",
       "    .dataframe tbody tr th {\n",
       "        vertical-align: top;\n",
       "    }\n",
       "\n",
       "    .dataframe thead th {\n",
       "        text-align: right;\n",
       "    }\n",
       "</style>\n",
       "<table border=\"1\" class=\"dataframe\">\n",
       "  <thead>\n",
       "    <tr style=\"text-align: right;\">\n",
       "      <th></th>\n",
       "      <th>user_id</th>\n",
       "      <th>name</th>\n",
       "      <th>display_name</th>\n",
       "      <th>real_name</th>\n",
       "      <th>title</th>\n",
       "      <th>phone</th>\n",
       "      <th>is_bot</th>\n",
       "    </tr>\n",
       "  </thead>\n",
       "  <tbody>\n",
       "    <tr>\n",
       "      <th>0</th>\n",
       "      <td>USLACKBOT</td>\n",
       "      <td>slackbot</td>\n",
       "      <td>Slackbot</td>\n",
       "      <td>Slackbot</td>\n",
       "      <td></td>\n",
       "      <td></td>\n",
       "      <td>False</td>\n",
       "    </tr>\n",
       "    <tr>\n",
       "      <th>1</th>\n",
       "      <td>U01AT4T75JB</td>\n",
       "      <td>loclexuan26392</td>\n",
       "      <td>Loc Le Xuan</td>\n",
       "      <td>Loc Le Xuan</td>\n",
       "      <td></td>\n",
       "      <td></td>\n",
       "      <td>False</td>\n",
       "    </tr>\n",
       "    <tr>\n",
       "      <th>2</th>\n",
       "      <td>U01AVDY7JET</td>\n",
       "      <td>locle.ds</td>\n",
       "      <td>Loc Le Xuan</td>\n",
       "      <td>Loc Le Xuan</td>\n",
       "      <td></td>\n",
       "      <td></td>\n",
       "      <td>False</td>\n",
       "    </tr>\n",
       "    <tr>\n",
       "      <th>3</th>\n",
       "      <td>U01BE2PR6LU</td>\n",
       "      <td>maianhdang.ftu</td>\n",
       "      <td>MAD</td>\n",
       "      <td>Dặng Huỳnh Mai Anh</td>\n",
       "      <td>Technical Contents</td>\n",
       "      <td></td>\n",
       "      <td>False</td>\n",
       "    </tr>\n",
       "    <tr>\n",
       "      <th>4</th>\n",
       "      <td>U01C48T7S1J</td>\n",
       "      <td>huyenhoang.design</td>\n",
       "      <td>Thanh Huyen Hoang</td>\n",
       "      <td>Thanh Huyen Hoang</td>\n",
       "      <td></td>\n",
       "      <td></td>\n",
       "      <td>False</td>\n",
       "    </tr>\n",
       "  </tbody>\n",
       "</table>\n",
       "</div>"
      ],
      "text/plain": [
       "       user_id               name  ... phone is_bot\n",
       "0    USLACKBOT           slackbot  ...        False\n",
       "1  U01AT4T75JB     loclexuan26392  ...        False\n",
       "2  U01AVDY7JET           locle.ds  ...        False\n",
       "3  U01BE2PR6LU     maianhdang.ftu  ...        False\n",
       "4  U01C48T7S1J  huyenhoang.design  ...        False\n",
       "\n",
       "[5 rows x 7 columns]"
      ]
     },
     "execution_count": 170,
     "metadata": {
      "tags": []
     },
     "output_type": "execute_result"
    }
   ],
   "source": [
    "user_df = pd.DataFrame(user_dict) ## Dùng pandas để convert dictionaries thành bảng\n",
    "user_df.head(5) ## Chỉ in 5 dòng đầu (chủ yếu để xem cấu trúc)"
   ]
  },
  {
   "cell_type": "code",
   "execution_count": 188,
   "metadata": {
    "colab": {
     "base_uri": "https://localhost:8080/",
     "height": 80
    },
    "id": "rjFcaWdt2ABM",
    "outputId": "1a114985-7608-4421-aa51-1e406cc427eb"
   },
   "outputs": [
    {
     "data": {
      "text/html": [
       "<div>\n",
       "<style scoped>\n",
       "    .dataframe tbody tr th:only-of-type {\n",
       "        vertical-align: middle;\n",
       "    }\n",
       "\n",
       "    .dataframe tbody tr th {\n",
       "        vertical-align: top;\n",
       "    }\n",
       "\n",
       "    .dataframe thead th {\n",
       "        text-align: right;\n",
       "    }\n",
       "</style>\n",
       "<table border=\"1\" class=\"dataframe\">\n",
       "  <thead>\n",
       "    <tr style=\"text-align: right;\">\n",
       "      <th></th>\n",
       "      <th>user_id</th>\n",
       "      <th>name</th>\n",
       "      <th>display_name</th>\n",
       "      <th>real_name</th>\n",
       "      <th>title</th>\n",
       "      <th>phone</th>\n",
       "      <th>is_bot</th>\n",
       "    </tr>\n",
       "  </thead>\n",
       "  <tbody>\n",
       "    <tr>\n",
       "      <th>3</th>\n",
       "      <td>U01BE2PR6LU</td>\n",
       "      <td>maianhdang.ftu</td>\n",
       "      <td>MAD</td>\n",
       "      <td>Dặng Huỳnh Mai Anh</td>\n",
       "      <td>Technical Contents</td>\n",
       "      <td></td>\n",
       "      <td>False</td>\n",
       "    </tr>\n",
       "  </tbody>\n",
       "</table>\n",
       "</div>"
      ],
      "text/plain": [
       "       user_id            name display_name  ...               title phone is_bot\n",
       "3  U01BE2PR6LU  maianhdang.ftu          MAD  ...  Technical Contents        False\n",
       "\n",
       "[1 rows x 7 columns]"
      ]
     },
     "execution_count": 188,
     "metadata": {
      "tags": []
     },
     "output_type": "execute_result"
    }
   ],
   "source": [
    "user_df[user_df.display_name == 'MAD'] ## Lọc thông tin của MAD, trên DataFrame (bạn có thể Google thêm)"
   ]
  },
  {
   "cell_type": "markdown",
   "metadata": {
    "id": "1TZrcaWZyE07"
   },
   "source": [
    "-------------- HẾT PHẦN BẮT BUỘC ---------------------"
   ]
  },
  {
   "cell_type": "markdown",
   "metadata": {
    "id": "P3_b7zw-1A6s"
   },
   "source": [
    "## Option 1: Update data => Google SpreadSheet"
   ]
  },
  {
   "cell_type": "markdown",
   "metadata": {
    "id": "UPuXhw3WtmWw"
   },
   "source": [
    "### TODO#2\n",
    "Tạo service account (output là file json), file này để cho phép ta access vào Google Spreadsheet:\n",
    "\n",
    "1. Làm theo hướng dẫn: [Google Create a Service Account](https://support.google.com/a/answer/7378726?hl=en)\n",
    "![google_service_account](../img/google_service_account.png)\n",
    "2. Lưu file JSON (chứa credential về máy)\n",
    "![gservice_acc_json](../img/gservice_acc_json.png)\n",
    "3. Nhớ Enable [Google Drive API](https://console.cloud.google.com/marketplace/product/google/drive.googleapis.com?q=search&referrer=search&project=quickstart-313303) (Nếu bạn chạy code báo lỗi chưa enable API thì vào link trong phần lỗi để Enable, sau khi kích hoạt có thể cần vài phút để chạy được)\n",
    "![enable_api](../img/enable_api.png)\n",
    "* ==> Upload file Gsheet Credential JSON nếu bạn dùng Colab \n",
    "* ==> Nếu bạn để key trong repo git, **NHỚ** để file json vào `.gitignore` để không bị leaked key)\n"
   ]
  },
  {
   "cell_type": "code",
   "execution_count": 172,
   "metadata": {
    "colab": {
     "base_uri": "https://localhost:8080/"
    },
    "id": "XhrcVjXWwldS",
    "outputId": "63133330-f68b-4adf-96a1-6d2c0e08dc70"
   },
   "outputs": [
    {
     "name": "stdout",
     "output_type": "stream",
     "text": [
      "env_variable.json  quickstart-313303-7fd9129f83f5.json\tsample_data\n"
     ]
    }
   ],
   "source": [
    "!ls"
   ]
  },
  {
   "cell_type": "code",
   "execution_count": 175,
   "metadata": {
    "colab": {
     "base_uri": "https://localhost:8080/"
    },
    "id": "4NEQFu-DNvFC",
    "outputId": "a855fe34-b409-4152-a218-67bfa240396f"
   },
   "outputs": [
    {
     "name": "stdout",
     "output_type": "stream",
     "text": [
      "DONE!\n"
     ]
    }
   ],
   "source": [
    "## Authorize bằng JSON\n",
    "scope = ['https://spreadsheets.google.com/feeds',\n",
    "         'https://www.googleapis.com/auth/drive']\n",
    "credentials = ServiceAccountCredentials.from_json_keyfile_name(\n",
    "    'quickstart-313303-7fd9129f83f5.json', scope)\n",
    "gc = gspread.authorize(credentials)\n",
    "print(\"DONE!\")"
   ]
  },
  {
   "cell_type": "markdown",
   "metadata": {
    "id": "HELBp0Sdxhzc"
   },
   "source": [
    "**Tạo Spreadsheet**\n",
    "\n",
    "1. Tạo Spreadsheet trên google\n",
    "2. Invite account trong `client_email` (file JSON Gsheet Credential bên trên) vào Spreadsheet (quyền Editor)\n",
    "![enable_api](../img/enable_api.png)\n",
    "3. Lấy `SPREADSHEET_KEY` (nằm trong chính URL của Spreadhstee): `https://docs.google.com/spreadsheets/d/<SPREADSHEET_KEY>/edit#gid=0`\n",
    "\n",
    "![add_gsheet](../img/add_gsheet.png)"
   ]
  },
  {
   "cell_type": "code",
   "execution_count": 177,
   "metadata": {
    "id": "XlZ8JNB3bZbw"
   },
   "outputs": [],
   "source": [
    "# ACCES GOOGLE SHEET\n",
    "sheet_index_no = 0\n",
    "spreadsheet_key = '' # input SPREADSHEET_KEY HERE\n",
    "sh = gc.open_by_key(spreadsheet_key)\n",
    "worksheet = sh.get_worksheet(sheet_index_no) #-> 0 - first sheet, 1 - second sheet etc. \n",
    "\n",
    "# APPEND DATA TO SHEET\n",
    "set_with_dataframe(worksheet, user_df) #-> Upload user_df vào Sheet đầu tiên trong Spreadsheet\n",
    "\n",
    "# DONE: Bây giờ bạn có thể mở spreadsheet và kiểm tra nội dung đã update chứ"
   ]
  },
  {
   "cell_type": "markdown",
   "metadata": {},
   "source": [
    "![slack_user_gsheet](../img/slack_user_gsheet.png)"
   ]
  },
  {
   "cell_type": "markdown",
   "metadata": {
    "id": "5I15m3ilyA3Y"
   },
   "source": [
    "-------------- HẾT PHẦN OPTION 1 ---------------------"
   ]
  },
  {
   "cell_type": "markdown",
   "metadata": {
    "id": "9aRN9KSczkmr"
   },
   "source": [
    "## Option 2: Ai đã nộp bài?\n"
   ]
  },
  {
   "cell_type": "markdown",
   "metadata": {
    "id": "Pw81ioUz2N0v"
   },
   "source": [
    "### Slack API: Channel List"
   ]
  },
  {
   "cell_type": "code",
   "execution_count": 187,
   "metadata": {
    "id": "fcdaDaGdz60p"
   },
   "outputs": [],
   "source": [
    "## Gọi SLACK API để list tất cả các channel\n",
    "endpoint = \"https://slack.com/api/conversations.list\"\n",
    "headers = {\"Authorization\": \"Bearer {}\".format(os.environ['SLACK_BEARER_TOKEN'])}\n",
    "response = requests.post(endpoint, headers=headers).json() \n",
    "channel_ls = response['channels']"
   ]
  },
  {
   "cell_type": "code",
   "execution_count": 183,
   "metadata": {
    "colab": {
     "base_uri": "https://localhost:8080/"
    },
    "id": "47dUJAPi0Jg5",
    "outputId": "2762f1e8-ff65-4994-c3e5-1ab0f5dc9205"
   },
   "outputs": [
    {
     "data": {
      "text/plain": [
       "{'created': 1600856703,\n",
       " 'creator': 'U01BE2PR6LU',\n",
       " 'id': 'C01B4PVGLVB',\n",
       " 'is_archived': False,\n",
       " 'is_channel': True,\n",
       " 'is_ext_shared': False,\n",
       " 'is_general': True,\n",
       " 'is_group': False,\n",
       " 'is_im': False,\n",
       " 'is_member': False,\n",
       " 'is_mpim': False,\n",
       " 'is_org_shared': False,\n",
       " 'is_pending_ext_shared': False,\n",
       " 'is_private': False,\n",
       " 'is_shared': False,\n",
       " 'name': 'general',\n",
       " 'name_normalized': 'general',\n",
       " 'num_members': 62,\n",
       " 'parent_conversation': None,\n",
       " 'pending_connected_team_ids': [],\n",
       " 'pending_shared': [],\n",
       " 'previous_names': [],\n",
       " 'purpose': {'creator': 'U01BE2PR6LU',\n",
       "  'last_set': 1600856703,\n",
       "  'value': 'This is the one channel that will always include everyone. It’s a great spot for announcements and team-wide conversations.'},\n",
       " 'shared_team_ids': ['T01B7SGGMLJ'],\n",
       " 'topic': {'creator': '', 'last_set': 0, 'value': ''},\n",
       " 'unlinked': 0}"
      ]
     },
     "execution_count": 183,
     "metadata": {
      "tags": []
     },
     "output_type": "execute_result"
    }
   ],
   "source": [
    "channel_ls[0] ## Thử extract record đầu tiên để xem schema  => name: general, id: C01B4PVGLVB"
   ]
  },
  {
   "cell_type": "markdown",
   "metadata": {
    "id": "CNFTcFC00l8g"
   },
   "source": [
    "### TODO#3 \n",
    "* Tìm id của channel #atom-assignment2"
   ]
  },
  {
   "cell_type": "markdown",
   "metadata": {
    "id": "EnCvdYAn2R47"
   },
   "source": [
    "### Slack API: List messages trong 1 channel"
   ]
  },
  {
   "cell_type": "code",
   "execution_count": 192,
   "metadata": {
    "id": "1UsSESN8rtnk"
   },
   "outputs": [],
   "source": [
    "endpoint = \"https://slack.com/api/conversations.history\"\n",
    "data = {\"channel\": \"C01U6P7LZ8F\"} ## This is ID of assignment#1 channel\n",
    "headers = {\"Authorization\": \"Bearer {}\".format(os.environ['SLACK_BEARER_TOKEN'])}"
   ]
  },
  {
   "cell_type": "code",
   "execution_count": 193,
   "metadata": {
    "id": "i8eJw3LBr4lY"
   },
   "outputs": [],
   "source": [
    "response_json = requests.post(endpoint, data=data, headers=headers).json()\n",
    "msg_ls = response_json['messages']"
   ]
  },
  {
   "cell_type": "code",
   "execution_count": 199,
   "metadata": {
    "colab": {
     "base_uri": "https://localhost:8080/"
    },
    "id": "KkYO1KcBtZa9",
    "outputId": "7a76397b-202b-445e-aa26-f4b30cfc9a53"
   },
   "outputs": [
    {
     "data": {
      "text/plain": [
       "{'attachments': [{'fallback': 'Google Colaboratory',\n",
       "   'from_url': 'https://colab.research.google.com/drive/1VnMQdhpjKldwvJnjqpYO0sQkeaVbvNyB?usp=sharing',\n",
       "   'id': 1,\n",
       "   'image_bytes': 4534,\n",
       "   'image_height': 250,\n",
       "   'image_url': 'https://colab.research.google.com/img/colab_favicon_256px.png',\n",
       "   'image_width': 250,\n",
       "   'original_url': 'https://colab.research.google.com/drive/1VnMQdhpjKldwvJnjqpYO0sQkeaVbvNyB?usp=sharing',\n",
       "   'service_icon': 'https://colab.research.google.com/img/favicon.ico?vrz=colab-20210422-060049-RC00_369841174',\n",
       "   'service_name': 'colab.research.google.com',\n",
       "   'title': 'Google Colaboratory',\n",
       "   'title_link': 'https://colab.research.google.com/drive/1VnMQdhpjKldwvJnjqpYO0sQkeaVbvNyB?usp=sharing'}],\n",
       " 'blocks': [{'block_id': '5uv',\n",
       "   'elements': [{'elements': [{'text': 'Mình gửi bài assignment1:\\nTask 1: ',\n",
       "       'type': 'text'},\n",
       "      {'type': 'link',\n",
       "       'url': 'https://docs.google.com/spreadsheets/d/1XDHiv72ITLoY1aGYuc1LbqpVq20k72th4XRYPmqSAhI/edit?usp=sharing'},\n",
       "      {'text': '\\nTask 2: ', 'type': 'text'},\n",
       "      {'type': 'link',\n",
       "       'url': 'https://colab.research.google.com/drive/1VnMQdhpjKldwvJnjqpYO0sQkeaVbvNyB?usp=sharing'},\n",
       "      {'text': '\\nTask 3: ', 'type': 'text'},\n",
       "      {'type': 'link',\n",
       "       'url': 'https://github.com/vuthanhdatt/datacracy-atom-VuThanhDat'}],\n",
       "     'type': 'rich_text_section'}],\n",
       "   'type': 'rich_text'}],\n",
       " 'client_msg_id': 'e77725c4-cccc-4ea0-a0f3-d3f8a7f434e2',\n",
       " 'reactions': [{'count': 1, 'name': 'construction', 'users': ['U01UMBZHU2W']}],\n",
       " 'team': 'T01B7SGGMLJ',\n",
       " 'text': 'Mình gửi bài assignment1:\\nTask 1: <https://docs.google.com/spreadsheets/d/1XDHiv72ITLoY1aGYuc1LbqpVq20k72th4XRYPmqSAhI/edit?usp=sharing>\\nTask 2: <https://colab.research.google.com/drive/1VnMQdhpjKldwvJnjqpYO0sQkeaVbvNyB?usp=sharing>\\nTask 3: <https://github.com/vuthanhdatt/datacracy-atom-VuThanhDat>',\n",
       " 'ts': '1619216201.038200',\n",
       " 'type': 'message',\n",
       " 'user': 'U01V00P4S2V'}"
      ]
     },
     "execution_count": 199,
     "metadata": {
      "tags": []
     },
     "output_type": "execute_result"
    }
   ],
   "source": [
    "msg_ls[21]"
   ]
  },
  {
   "cell_type": "code",
   "execution_count": 35,
   "metadata": {
    "id": "BsW8CXAXv-tC"
   },
   "outputs": [],
   "source": [
    "not_learners_id = ['U01BE2PR6LU']"
   ]
  },
  {
   "cell_type": "code",
   "execution_count": 72,
   "metadata": {
    "colab": {
     "base_uri": "https://localhost:8080/"
    },
    "id": "XOvJ5kGCsmAD",
    "outputId": "79567aaf-62bd-4091-deca-6e13c1c80e79"
   },
   "outputs": [
    {
     "name": "stdout",
     "output_type": "stream",
     "text": [
      "2021-05-10 04:51:46.004700 U01UJ9LG5U5 2 ['U01USGKQ771', 'U01V00KHHHP'] 2021-05-15 09:14:31.003600 https://github.com/danhpcv/\n",
      "2021-05-10 04:35:39.003800 U01UMC08KL2 2 ['U01USGKQ771', 'U01V00KHHHP'] 2021-05-15 09:14:31.003600 https://github.com/auslynnguyen/\n",
      "2021-05-08 06:31:59.005200 U01UMJ36QD9 1 ['U01UMBX2X18'] 2021-05-08 06:36:43.006000 https://github.com/auslynnguyen/\n",
      "2021-05-04 13:55:46.001800 U01UTGVPE7N 1 ['U01UMBX2X18'] 2021-05-08 06:36:43.006000 https://github.com/hoaintp/\n",
      "2021-05-03 17:41:18.002400 U01U6JQB695 2 ['U01UMC0N5U2', 'U01U6JQB695'] 2021-05-11 03:10:06.001300 https://github.com/Tenderriver/\n",
      "2021-05-03 08:51:19.001200 U01V00KHHHP 1 ['U01UMBZHU2W'] 2021-05-14 17:51:26.024600 https://github.com/saturn1101/\n",
      "2021-04-26 06:53:56.000800 U01UMBZHU2W 2 ['U01UMJ451V1', 'U01UMBZHU2W'] 2021-05-14 17:52:35.025100 https://github.com/saturn1101/\n",
      "2021-04-24 02:01:27.043200 U01VB63LRNC 1 ['U01UMJ451V1'] 2021-05-11 12:37:14.003100 https://github.com/AnhThuNguyenHuynh/\n"
     ]
    }
   ],
   "source": [
    "## Summarize all submitted assignments + reviews cnt\n",
    "not_learners_id = ['U01BE2PR6LU'] # -> Remove MA from the user_id\n",
    "github, reply_count, reply_users_count, reply_users, latest_reply = '','','','',''\n",
    "for i in range(20):\n",
    "  ts = dt.fromtimestamp(float(msg_ls[i]['ts'])) # -> Convert timestamp Epoch thành dàng dễ đọc\n",
    "  user = msg_ls[i]['user'] # -> Lấy thông tin người post messages\n",
    "  if msg_ls[i]['user'] not in not_learners_id:\n",
    "    if 'attachments' in msg_ls[i].keys():\n",
    "      #print(msg_ls[i].keys())\n",
    "      text = msg_ls[i]['text']\n",
    "      github_link = re.findall('(?:https?://)?(?:www[.])?github[.]com/[\\w-]+/?', text) #-> Submission là các message có link github\n",
    "      #print(msg_ls[i])\n",
    "      if len(github_link) > 0: github = github_link[0]\n",
    "      if 'reply_count' in msg_ls[i].keys(): reply_count = msg_ls[i]['reply_count'] #-> Extract số review\n",
    "      if 'reply_users_count' in msg_ls[i].keys(): reply_users_count = msg_ls[i]['reply_users_count']\n",
    "      if 'reply_users' in msg_ls[i].keys(): reply_users = msg_ls[i]['reply_users']\n",
    "      if 'latest_reply' in msg_ls[i].keys(): latest_reply = dt.fromtimestamp(float(msg_ls[i]['latest_reply']))\n",
    "      print(ts, user, reply_users_count, reply_users, latest_reply, github)"
   ]
  },
  {
   "cell_type": "markdown",
   "metadata": {
    "id": "SgSC21qO3kKA"
   },
   "source": [
    "### TODO#4\n",
    "* Tạo thành 1 bảng chứa các thông tin trên và update lên Spreadsheet (Sheet: Assignment#2 Submission)"
   ]
  },
  {
   "cell_type": "markdown",
   "metadata": {
    "id": "698exK3k35RM"
   },
   "source": [
    "-------------- HẾT PHẦN OPTION 2 ---------------------"
   ]
  }
 ],
 "metadata": {
  "colab": {
   "collapsed_sections": [],
   "name": "Slack-Data.ipynb",
   "provenance": []
  },
  "kernelspec": {
   "display_name": "Python 3",
   "language": "python",
   "name": "python3"
  },
  "language_info": {
   "codemirror_mode": {
    "name": "ipython",
    "version": 3
   },
   "file_extension": ".py",
   "mimetype": "text/x-python",
   "name": "python",
   "nbconvert_exporter": "python",
   "pygments_lexer": "ipython3",
   "version": "3.8.1"
  }
 },
 "nbformat": 4,
 "nbformat_minor": 1
}
