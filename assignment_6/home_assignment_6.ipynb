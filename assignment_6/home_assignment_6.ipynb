{
  "nbformat": 4,
  "nbformat_minor": 0,
  "metadata": {
    "colab": {
      "name": "home_assignment_5.ipynb",
      "provenance": [],
      "toc_visible": true
    },
    "kernelspec": {
      "name": "python3",
      "display_name": "Python 3.9.5 64-bit",
      "metadata": {
        "interpreter": {
          "hash": "dcacb0086e9a4f4eabd41c33bf4faac5ea0a3337ed3f5eff0680afa930572c04"
        }
      }
    },
    "language_info": {
      "name": "python",
      "version": "3.9.5"
    }
  },
  "cells": [
    {
      "cell_type": "markdown",
      "metadata": {
        "id": "sQ8jh5aiy8zo"
      },
      "source": [
        "# HOME ASSIGNMENT #6: CLOUD FUNCTION & STREAMLIT\n",
        "\n",
        "**Mục đích của bài Assignment**\n",
        "> *  [Optional] Data Deploy Cloud Function \n",
        "> *  Tạo Data Apps với Streamlit\n",
        "> *  Thao tác với data bằng Pandas\n",
        "> *  Data Visualization\n",
        "\n",
        "**Các kiến thức áp dụng**\n",
        "* Slack API, JSON to DataFrame\n",
        "* GCP Cloud Function\n",
        "* Streamlit\n",
        "* Python Pandas\n",
        "* Python Data Visualization\n",
        "\n",
        "**Lời Khuyên**\n",
        "* Các bạn dành thời gian ôn lại và xâu chuỗi kiến thức\n",
        "* Review Assignment 1-5 cho ít nhất 2 bạn học viên khác"
      ]
    },
    {
      "cell_type": "code",
      "execution_count": 2,
      "metadata": {},
      "outputs": [
        {
          "output_type": "stream",
          "name": "stdout",
          "text": [
            " Volume in drive C is OS 10\n Volume Serial Number is 2C5E-73D5\n\n Directory of c:\\Users\\Admin\\OneDrive\\Ta`i li�?u\\GitHub\\atom-assignments\n\n06/10/2021  08:01 PM    <DIR>          .\n06/10/2021  08:01 PM    <DIR>          ..\n06/05/2021  02:21 PM                10 .gitignore\n05/28/2021  08:00 AM    <DIR>          .vscode\n06/05/2021  02:16 PM    <DIR>          assignment_2\n05/31/2021  07:25 AM    <DIR>          assignment_3\n06/10/2021  08:01 PM    <DIR>          assignment_4\n06/05/2021  01:33 PM    <DIR>          assignment_5\n06/10/2021  08:01 PM    <DIR>          assignment_6\n06/10/2021  08:01 PM    <DIR>          data\n06/10/2021  08:01 PM    <DIR>          img\n05/13/2021  08:35 PM             1,086 LICENSE\n05/20/2021  12:38 AM    <DIR>          python-for-data\n05/31/2021  07:56 AM             1,877 README.md\n06/10/2021  08:02 PM    <DIR>          streamlit\n               3 File(s)          2,973 bytes\n              12 Dir(s)  12,097,785,856 bytes free\n"
          ]
        }
      ],
      "source": [
        "!dir .."
      ]
    },
    {
      "source": [
        "# TODO 1: Python Data Viz\n",
        "Hoàn tất các sets bài tập trên [Kaggle Data Visualization](https://www.kaggle.com/learn/data-visualization) - Nếu chưa hoàn thành trong [Assignment 5](https://github.com/anhdanggit/atom-assignments/blob/main/assignment_5/home_assignment_5.ipynb)"
      ],
      "cell_type": "markdown",
      "metadata": {}
    },
    {
      "cell_type": "code",
      "execution_count": 14,
      "metadata": {},
      "outputs": [],
      "source": [
        "# Copy các link Kaggle sau:\n",
        "## 1. Link tới Kaggle Account của bạn -----> \n",
        "## 2. Link tới các bài tập\n",
        "## DataViz 1: --->\n",
        "## DataViz 2: --->\n",
        "## DataViz 3: --->\n",
        "## DataViz 4: --->\n",
        "## DataViz 5: --->\n",
        "## DataViz 6: --->\n",
        "## DataViz 7: --->"
      ]
    },
    {
      "cell_type": "markdown",
      "metadata": {
        "id": "t28PUQoNzy1k"
      },
      "source": [
        "# TODO 2 (OPTIONAL): DEPLOY GOOGLE CLOUD FUNCTION\n",
        "* Làm theo Lab của Week 6: [HERE](https://anhdang.gitbook.io/datacracy/atom/6-cloud-function-and-streamlit/6.2-lab-cloud-function-hands-on)\n",
        "* Click đôi vào các tab Markdown bên dưới để trả lời các câu hỏi ([Markdown Cheatsheet](https://guides.github.com/features/mastering-markdown/))"
      ]
    },
    {
      "source": [
        "## Screenshot Cloud Function on GCP\n",
        "> *Copy Screenshot vào folder img trong repo, và đổi link bên dưới*\n",
        "\n",
        "![Cloud Function Deployed](/img/yourscreenshot.png)"
      ],
      "cell_type": "markdown",
      "metadata": {}
    },
    {
      "cell_type": "code",
      "execution_count": null,
      "metadata": {},
      "outputs": [],
      "source": []
    },
    {
      "source": [
        "## Screenshot Cloud Function Testing on GCP\n",
        "> *Copy Screenshot vào folder img trong repo, và đổi link bên dưới*\n",
        "\n",
        "![\bCloud Function Testing](../img/yourscreenshot.png)"
      ],
      "cell_type": "markdown",
      "metadata": {}
    },
    {
      "cell_type": "code",
      "execution_count": null,
      "metadata": {},
      "outputs": [],
      "source": []
    },
    {
      "source": [
        "## Screenshot Cloud Function Call on Postman\n",
        "> *Copy Screenshot vào folder img trong repo, và đổi link bên dưới*\n",
        "\n",
        "![\bCloud Function on Postman](../img/yourscreenshot.png)"
      ],
      "cell_type": "markdown",
      "metadata": {
        "id": "2QUVZlLm00PG"
      }
    },
    {
      "cell_type": "code",
      "execution_count": null,
      "metadata": {},
      "outputs": [],
      "source": []
    },
    {
      "source": [
        "## Các lỗi gặp trong quá trình thực hiện \n",
        "*Liên kê bên dưới các lỗi bạn gặp và các giải quyết*\n",
        "\n",
        "1. \n",
        "2. \n",
        "3. "
      ],
      "cell_type": "markdown",
      "metadata": {
        "id": "u5c_Lx9MyzSF"
      }
    },
    {
      "cell_type": "code",
      "execution_count": null,
      "metadata": {},
      "outputs": [],
      "source": []
    },
    {
      "source": [
        "# TODO 3: HIỂU & DIAGRAM CODE STREAMLIT \n",
        "Mình thường khuyên các bạn mới học code rằng:\n",
        "\n",
        "> Hãy code với một cây bút chì và tờ giấy\n",
        "\n",
        "Như thế nào?\n",
        "\n",
        "1. Đầu tiên, là hình dung trong đầu: Bạn sẽ bắt đầu từ gì (`inputs`) và cho ra những gì (`output`)\n",
        "2. Rồi, để đi từ inputs đến outputs thì bạn cần thực hiện những bước nào (các `functions`)\n",
        "\n",
        "Bạn có thể vẽ ra một diagram như vậy giúp bạn:\n",
        "* Nhìn bức tranh lớn, và không bị sa đà vào tiểu tiết, syntax\n",
        "* Rõ ràng hơn về flow \n",
        "* Giúp bạn tối ưu flow trước, rồi sau đó code sẽ thuận lợi hơn\n",
        "* Rất hiệu quả để bạn debugs trong tương lai\n",
        "\n",
        "Tham khảo Diagram sau của [streamlit/data_glimpse.py](https://github.com/anhdanggit/atom-assignments/blob/main/streamlit/data_glimpse.py) và vẽ diagram theo cách hiểu của bạn cho [streamlit/datacracy_slack.py](https://github.com/anhdanggit/atom-assignments/blob/main/streamlit/datacracy_slack.py)"
      ],
      "cell_type": "markdown",
      "metadata": {
        "id": "bT_ziqVJ1COI"
      }
    },
    {
      "source": [
        "## Diagram Data Glimpse Apps\n",
        "> Bên dưới là ví dụ Diagram của app [streamlit/data_glimpse.py](https://github.com/anhdanggit/atom-assignments/blob/main/streamlit/data_glimpse.py)\n",
        "\n",
        "![data-glimpse-diagream](../img/streamlit-Data-Glimpse-Diagram.png)"
      ],
      "cell_type": "markdown",
      "metadata": {}
    },
    {
      "source": [
        "## DataCracy Slack \n",
        "> Là apps để tổng hợp lịch sử nộp bài, review và discussion của Datacracy Learners\n",
        "![Datacracy-slack-streamlit](../img/dataCracy-slack-streamlit.png)"
      ],
      "cell_type": "markdown",
      "metadata": {}
    },
    {
      "source": [
        "## Diagram DataCracy Slack Apps\n",
        "* Xem code của app [streamlit/datacracy_slack.py](https://github.com/anhdanggit/atom-assignments/blob/main/streamlit/datacracy_slack.py)\n",
        "> *Copy Diagram bạn vẽ vào folder img trong repo, và đổi link bên dưới*\n",
        "\n",
        "![datacracy-slack-diagram](../img/streamlit-datacracy-Diagram.png)"
      ],
      "cell_type": "markdown",
      "metadata": {}
    },
    {
      "cell_type": "code",
      "execution_count": null,
      "metadata": {},
      "outputs": [],
      "source": []
    },
    {
      "source": [
        "## Giải thích \n",
        "Xem code của app [streamlit/datacracy_slack.py](https://github.com/anhdanggit/atom-assignments/blob/main/streamlit/datacracy_slack.py):\n",
        "\n",
        "1. Trong mỗi function (steps) trong Diagram của bạn, giải thích function làm những việc gì?\n",
        "2. Liệt kê các logics được áp dụng để xử lý data?"
      ],
      "cell_type": "markdown",
      "metadata": {}
    },
    {
      "cell_type": "code",
      "execution_count": 17,
      "metadata": {},
      "outputs": [],
      "source": [
        "## YOUR ANSWER"
      ]
    },
    {
      "cell_type": "code",
      "metadata": {
        "id": "UccXW_FH4Glg"
      },
      "source": [],
      "execution_count": null,
      "outputs": []
    },
    {
      "source": [
        "# TODO 4: VISUALIZATION ON STREAMLIT\n",
        "Áp dụng kiến thức đã học trong *TODO 1* + Pandas thực hiện các tasks sau:\n",
        "\n",
        "1. Tổng hợp cho tất cả learners các chỉ số sau: \n",
        "    * Số assignment đã nộp\n",
        "    * % bài được review \n",
        "    * Số workcount đã thảo luận \n",
        "    * Extract thứ trong tuần (weekday) của ngày nộp bài \n",
        "    * Extract giờ trong ngày nộp bài (hour)\n",
        "    \n",
        "4. Vẽ biểu đồ thể hiện phân phối (Distribution - [Kaggle Tutorial](https://www.kaggle.com/alexisbcook/distributions)) của các thông số trên và add vào app Streamlit"
      ],
      "cell_type": "markdown",
      "metadata": {}
    },
    {
      "cell_type": "code",
      "execution_count": null,
      "metadata": {},
      "outputs": [],
      "source": []
    }
  ]
}